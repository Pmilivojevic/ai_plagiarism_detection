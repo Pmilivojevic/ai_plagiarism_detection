{
 "cells": [
  {
   "cell_type": "code",
   "execution_count": 1,
   "metadata": {},
   "outputs": [
    {
     "data": {
      "text/plain": [
       "'/home/petar/Documents/python_projects/petar-milivojevic-mlhU-machine-learning-new-mP1l/research'"
      ]
     },
     "execution_count": 1,
     "metadata": {},
     "output_type": "execute_result"
    }
   ],
   "source": [
    "import os\n",
    "%pwd"
   ]
  },
  {
   "cell_type": "code",
   "execution_count": 2,
   "metadata": {},
   "outputs": [
    {
     "data": {
      "text/plain": [
       "'/home/petar/Documents/python_projects/petar-milivojevic-mlhU-machine-learning-new-mP1l'"
      ]
     },
     "execution_count": 2,
     "metadata": {},
     "output_type": "execute_result"
    }
   ],
   "source": [
    "os.chdir('../')\n",
    "%pwd"
   ]
  },
  {
   "cell_type": "code",
   "execution_count": 3,
   "metadata": {},
   "outputs": [],
   "source": [
    "from dataclasses import dataclass\n",
    "from pathlib import Path\n",
    "\n",
    "@dataclass(frozen=True)\n",
    "class DataTransformationConfig:\n",
    "    root_dir: Path\n",
    "    dataset_folder: Path\n",
    "    dataset_xlsx: Path\n",
    "    train_dataset: Path\n",
    "    test_dataset: Path\n",
    "    params: dict\n",
    "    dataset_val_status: bool"
   ]
  },
  {
   "cell_type": "code",
   "execution_count": 4,
   "metadata": {},
   "outputs": [],
   "source": [
    "from aiusage.constant import *\n",
    "from aiusage.utils.main_utils import create_directories, read_yaml\n",
    "\n",
    "class ConfigurationManager:\n",
    "    def __init__(\n",
    "        self,\n",
    "        config_file_path = CONFIG_FILE_PATH,\n",
    "        params_file_path = PARAMS_FILE_PATH,\n",
    "        schema_file_path = SCHEMA_FILE_PATH\n",
    "    ):\n",
    "        self.config = read_yaml(config_file_path)\n",
    "        self.params = read_yaml(params_file_path)\n",
    "        self.schema = read_yaml(schema_file_path)\n",
    "        \n",
    "        create_directories([self.config.artifacts_root])\n",
    "    \n",
    "    def get_data_transformation_config(self) -> DataTransformationConfig:\n",
    "        config = self.config.data_transformation\n",
    "        dataset_val_status_file = self.config.data_validation.STATUS_FILE\n",
    "        \n",
    "        with open(dataset_val_status_file, 'r') as f:\n",
    "            status = f.read()\n",
    "        \n",
    "        status = bool(str.split(status)[-1])\n",
    "        \n",
    "        create_directories([config.root_dir])\n",
    "        \n",
    "        data_transformation_config = DataTransformationConfig(\n",
    "            root_dir=config.root_dir,\n",
    "            dataset_folder=config.dataset_folder,\n",
    "            dataset_xlsx=config.dataset_xlsx,\n",
    "            train_dataset=config.train_dataset,\n",
    "            test_dataset=config.test_dataset,\n",
    "            params=self.params,\n",
    "            dataset_val_status=status\n",
    "        )\n",
    "        \n",
    "        return data_transformation_config"
   ]
  },
  {
   "cell_type": "code",
   "execution_count": 7,
   "metadata": {},
   "outputs": [],
   "source": [
    "from tqdm.notebook import tqdm\n",
    "import pandas as pd\n",
    "from sklearn.model_selection import train_test_split\n",
    "import json\n",
    "\n",
    "class DataTransformation:\n",
    "    def __init__(self, config: DataTransformationConfig):\n",
    "        self.config = config\n",
    "\n",
    "    def format_save_data(self):\n",
    "        if self.config.dataset_val_status:\n",
    "            data_df = pd.read_excel(self.config.dataset_xlsx)\n",
    "\n",
    "            data_array = []\n",
    "\n",
    "            for _, row in data_df.iterrows():\n",
    "                text = ' Question: '\n",
    "\n",
    "                with open(os.path.join(\n",
    "                        self.config.dataset_folder,\n",
    "                        row['coding_problem_id'],\n",
    "                        row['coding_problem_id'] + '.json'\n",
    "                    ), 'r') as f:\n",
    "                \n",
    "                    file = json.load(f)\n",
    "\n",
    "                text += file['question'] + ' Candidate code: '\n",
    "\n",
    "                for dir in os.listdir(os.path.join(self.config.dataset_folder, row['coding_problem_id'])):\n",
    "                    if row['coding_problem_id'] + '.' in dir and 'json' not in dir:\n",
    "                        file_path = os.path.join(self.config.dataset_folder, row['coding_problem_id'], dir)\n",
    "\n",
    "                        with open(file_path, 'r') as f:\n",
    "                            script_file = f.read()\n",
    "\n",
    "                        text += script_file + ' AI Code: '\n",
    "                        break\n",
    "\n",
    "                for dir in os.listdir(os.path.join(self.config.dataset_folder, row['coding_problem_id'])):\n",
    "                    if row['llm_answer_id'] in dir:\n",
    "                        file_path = os.path.join(self.config.dataset_folder, row['coding_problem_id'], dir)\n",
    "                \n",
    "                        with open(file_path, 'r') as f:\n",
    "                            script_file = f.read()\n",
    "\n",
    "                        text += script_file\n",
    "                        break\n",
    "                        \n",
    "                data_array.append(text)\n",
    "            \n",
    "            labels_array = list(data_df['plagiarism_score'])\n",
    "\n",
    "            train_array, test_array, train_labels_array, test_labels_array = train_test_split(\n",
    "                data_array,\n",
    "                labels_array,\n",
    "                test_size=self.config.params.test_split,\n",
    "                random_state=42\n",
    "            )\n",
    "\n",
    "            train_data = pd.DataFrame(\n",
    "                {\n",
    "                    'sample': train_array,\n",
    "                    'label': train_labels_array\n",
    "                }\n",
    "            )\n",
    "\n",
    "            train_data.to_csv(self.config.train_dataset, index=False)\n",
    "\n",
    "            test_data = pd.DataFrame(\n",
    "                {\n",
    "                    'sample': test_array,\n",
    "                    'label': test_labels_array\n",
    "                }\n",
    "            )\n",
    "\n",
    "            test_data.to_csv(self.config.test_dataset, index=False)\n",
    "        else:\n",
    "            print(\"Dataset didn't pass validation!!!\")"
   ]
  },
  {
   "cell_type": "code",
   "execution_count": 8,
   "metadata": {},
   "outputs": [
    {
     "name": "stdout",
     "output_type": "stream",
     "text": [
      "[2025-01-08 06:23:55,837: INFO: main_utils: created directory at: artifacts]\n",
      "[2025-01-08 06:23:55,838: INFO: main_utils: created directory at: artifacts/data_transformation]\n"
     ]
    }
   ],
   "source": [
    "try:\n",
    "    config = ConfigurationManager()\n",
    "    data_transformation_config = config.get_data_transformation_config()\n",
    "    data_transformation = DataTransformation(config=data_transformation_config)\n",
    "    data_transformation.format_save_data()\n",
    "\n",
    "except Exception as e:\n",
    "    raise e"
   ]
  },
  {
   "cell_type": "code",
   "execution_count": null,
   "metadata": {},
   "outputs": [],
   "source": []
  }
 ],
 "metadata": {
  "kernelspec": {
   "display_name": "env",
   "language": "python",
   "name": "python3"
  },
  "language_info": {
   "codemirror_mode": {
    "name": "ipython",
    "version": 3
   },
   "file_extension": ".py",
   "mimetype": "text/x-python",
   "name": "python",
   "nbconvert_exporter": "python",
   "pygments_lexer": "ipython3",
   "version": "3.10.12"
  }
 },
 "nbformat": 4,
 "nbformat_minor": 2
}
