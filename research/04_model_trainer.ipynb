{
 "cells": [
  {
   "cell_type": "code",
   "execution_count": 1,
   "metadata": {},
   "outputs": [
    {
     "data": {
      "text/plain": [
       "'/home/petar/Documents/python_projects/petar-milivojevic-mlhU-machine-learning-new-mP1l/research'"
      ]
     },
     "execution_count": 1,
     "metadata": {},
     "output_type": "execute_result"
    }
   ],
   "source": [
    "import os\n",
    "%pwd"
   ]
  },
  {
   "cell_type": "code",
   "execution_count": 2,
   "metadata": {},
   "outputs": [
    {
     "data": {
      "text/plain": [
       "'/home/petar/Documents/python_projects/petar-milivojevic-mlhU-machine-learning-new-mP1l'"
      ]
     },
     "execution_count": 2,
     "metadata": {},
     "output_type": "execute_result"
    }
   ],
   "source": [
    "os.chdir('../')\n",
    "%pwd"
   ]
  },
  {
   "cell_type": "code",
   "execution_count": 3,
   "metadata": {},
   "outputs": [],
   "source": [
    "from dataclasses import dataclass\n",
    "from pathlib import Path\n",
    "\n",
    "@dataclass(frozen=True)\n",
    "class ModelTrainerConfig:\n",
    "    root_dir: Path\n",
    "    train_data: Path\n",
    "    models: Path\n",
    "    stats: Path\n",
    "    model_params: dict"
   ]
  },
  {
   "cell_type": "code",
   "execution_count": 4,
   "metadata": {},
   "outputs": [],
   "source": [
    "from aiusage.constant import *\n",
    "from aiusage.utils.main_utils import create_directories, read_yaml\n",
    "\n",
    "class ConfigurationManager:\n",
    "    def __init__(\n",
    "        self,\n",
    "        config_file_path = CONFIG_FILE_PATH,\n",
    "        params_file_path = PARAMS_FILE_PATH,\n",
    "        schema_file_path = SCHEMA_FILE_PATH\n",
    "    ):\n",
    "        self.config = read_yaml(config_file_path)\n",
    "        self.params = read_yaml(params_file_path)\n",
    "        self.schema = read_yaml(schema_file_path)\n",
    "        \n",
    "        create_directories([self.config.artifacts_root])\n",
    "    \n",
    "    def get_model_trainer_config(self) -> ModelTrainerConfig:\n",
    "        config = self.config.model_trainer\n",
    "        \n",
    "        create_directories([config.models, config.stats])\n",
    "        \n",
    "        model_trainer_config = ModelTrainerConfig(\n",
    "            root_dir=config.root_dir,\n",
    "            train_data=config.train_data,\n",
    "            models=config.models,\n",
    "            stats=config.stats,\n",
    "            model_params=self.params\n",
    "        )\n",
    "    \n",
    "        return model_trainer_config"
   ]
  },
  {
   "cell_type": "code",
   "execution_count": null,
   "metadata": {},
   "outputs": [],
   "source": [
    "import sys\n",
    "import torch\n",
    "from torch import nn\n",
    "from transformers import AdamW\n",
    "import pandas as pd\n",
    "from sklearn.model_selection import KFold\n",
    "from torch.utils.data import DataLoader, Subset\n",
    "from sklearn.metrics import accuracy_score, classification_report, confusion_matrix, roc_auc_score\n",
    "from tqdm.notebook import tqdm\n",
    "from aiusage.constant.costum_dataset import AICodeDataset\n",
    "from aiusage.constant.costum_model import CustomBERTModel\n",
    "from transformers import BertTokenizer\n",
    "from aiusage.utils.main_utils import save_json, plot_metric, plot_confusion_matrix, plot_roc_curve\n",
    "\n",
    "\n",
    "class ModelTrainer:\n",
    "    def __init__(self, config: ModelTrainerConfig):\n",
    "        self.config = config\n",
    "    \n",
    "    def validation(self, model, val_loader, criterion, device):\n",
    "        model.eval()\n",
    "        total_loss = 0\n",
    "        val_predictions = []\n",
    "        val_labels = []\n",
    "\n",
    "        with torch.no_grad():\n",
    "            for batch in tqdm(val_loader):\n",
    "                input_ids = batch[\"input_ids\"].to(device)\n",
    "                attention_mask = batch[\"attention_mask\"].to(device)\n",
    "                labels = batch[\"labels\"].unsqueeze(1).to(device)\n",
    "\n",
    "                outputs = model(input_ids=input_ids, attention_mask=attention_mask)\n",
    "                loss = criterion(outputs, labels)\n",
    "                total_loss += loss.item()\n",
    "\n",
    "                preds = torch.sigmoid(outputs).cpu().detach().numpy().flatten()\n",
    "                val_predictions.extend(preds)\n",
    "                val_labels.extend(labels.cpu().numpy().flatten())\n",
    "        \n",
    "        return total_loss / len(val_loader), val_predictions, val_labels\n",
    "    \n",
    "    def train(self, epoch, model, train_loader, optimizer, criterion, device):\n",
    "        model.train()\n",
    "        total_loss = 0\n",
    "        train_preds = []\n",
    "        train_labels = []\n",
    "\n",
    "        for batch in tqdm(train_loader):\n",
    "            optimizer.zero_grad()\n",
    "            input_ids = batch[\"input_ids\"].to(device)\n",
    "            attention_mask = batch[\"attention_mask\"].to(device)\n",
    "            labels = batch[\"labels\"].unsqueeze(1).to(device)\n",
    "\n",
    "            outputs = model(input_ids=input_ids, attention_mask=attention_mask)\n",
    "\n",
    "            preds = torch.sigmoid(outputs).squeeze().cpu().detach().numpy()\n",
    "            train_preds.extend(preds)\n",
    "            train_labels.extend(labels.cpu().numpy())\n",
    "\n",
    "            binary_preds = [\n",
    "                1 if pred >= self.config.model_params.threshold else 0 for pred in train_preds\n",
    "            ]\n",
    "\n",
    "            binary_labels = [\n",
    "                1 if label >= self.config.model_params.threshold else 0 for label in train_labels\n",
    "            ]\n",
    "\n",
    "            accuracy = accuracy_score(binary_labels, binary_preds)\n",
    "\n",
    "            loss = criterion(outputs, labels)\n",
    "            loss.backward()\n",
    "            optimizer.step()\n",
    "\n",
    "            total_loss += loss.item()\n",
    "\n",
    "            sys.stdout.write(\n",
    "                \"epoch:%2d/%2d - train_loss:%.4f - train_accuracy:%.4f\" %(\n",
    "                    epoch,\n",
    "                    self.config.model_params.num_epochs,\n",
    "                    loss.item(),\n",
    "                    accuracy\n",
    "                )\n",
    "            )\n",
    "            sys.stdout.flush()\n",
    "        \n",
    "        return total_loss / len(train_loader), accuracy\n",
    "    \n",
    "    def train_compose(self):\n",
    "        device = 'cuda' if torch.cuda.is_available() else 'cpu'\n",
    "        print('Device: ', device)\n",
    "\n",
    "        train_df = pd.read_csv(self.config.train_data)\n",
    "        train_list = list(train_df[train_df.columns[0]])\n",
    "        train_labels_list = list(train_df[train_df.columns[1]])\n",
    "\n",
    "        tokenizer = BertTokenizer.from_pretrained('bert-base-uncased')\n",
    "\n",
    "        dataset = AICodeDataset(train_list, train_labels_list, tokenizer)\n",
    "\n",
    "        kf = KFold(n_splits=self.config.model_params.num_folds, shuffle=True, random_state=42)\n",
    "\n",
    "        for fold, (train_idx, val_idx) in tqdm(enumerate(kf.split(dataset))):\n",
    "            print(f'Fold {fold + 1}/{self.config.model_params.num_folds}')\n",
    "\n",
    "            train_subset = Subset(dataset, train_idx)\n",
    "            val_subset = Subset(dataset, val_idx)\n",
    "\n",
    "            train_loader = DataLoader(train_subset, batch_size=self.config.model_params.batch_size, shuffle=True)\n",
    "            val_loader = DataLoader(val_subset, batch_size=self.config.model_params.batch_size, shuffle=True)\n",
    "\n",
    "            model = CustomBERTModel(dropout_prob=self.config.model_params.dropout).to(device)\n",
    "            optimizer = AdamW(model.parameters(), lr=self.config.model_params.lr)\n",
    "            criterion = nn.BCEWithLogitsLoss()\n",
    "\n",
    "            train_losses = []\n",
    "            val_losses = []\n",
    "            train_accuracies = []\n",
    "            val_accuracies = []\n",
    "            best_val_loss = float('inf')\n",
    "            epochs_range = range(1, self.config.model_params.num_epochs + 1)\n",
    "\n",
    "            for epoch in tqdm(range(self.config.model_params.num_epochs)):\n",
    "                train_epoch_loss, train_epoch_acc = self.train(\n",
    "                    epoch,\n",
    "                    model,\n",
    "                    train_loader,\n",
    "                    optimizer,\n",
    "                    criterion,\n",
    "                    device\n",
    "                )\n",
    "\n",
    "                train_losses.append(train_epoch_loss)\n",
    "                train_accuracies.append(train_epoch_acc)\n",
    "\n",
    "                val_epoch_loss, val_preds, val_labels = self.validation(\n",
    "                    model,\n",
    "                    val_loader,\n",
    "                    criterion,\n",
    "                    device\n",
    "                )\n",
    "\n",
    "                val_losses.append(val_epoch_loss)\n",
    "\n",
    "                binary_val_preds = [\n",
    "                    1 if pred >= self.config.model_params.threshold else 0 for pred in val_preds\n",
    "                ]\n",
    "                \n",
    "                binary_val_labels = [\n",
    "                    1 if label >= self.config.model_params.threshold else 0 for label in val_labels\n",
    "                ]\n",
    "\n",
    "                val_epoch_accuracy = accuracy_score(binary_val_labels, binary_val_preds)\n",
    "                val_accuracies.append(val_epoch_accuracy)\n",
    "\n",
    "                print(f'Epoch [{epoch+1}/{self.config.model_params.num_epochs}], '\n",
    "                      f'Loss: {train_epoch_loss:.4f}, '\n",
    "                      f'Validation Loss: {val_epoch_loss:.4f}, '\n",
    "                      f'Train Accuracy: {train_epoch_acc:.2f}%, '\n",
    "                      f'Validation Accuracy: {val_epoch_accuracy:.2f}%')\n",
    "                \n",
    "                if val_epoch_loss < best_val_loss:\n",
    "                    torch.save(model.state_dict(), os.path.join(self.config.models, f'model_{fold}.pth'))\n",
    "                    tokenizer.save_pretrained(self.config.models)\n",
    "\n",
    "                    report = classification_report(\n",
    "                        binary_val_labels,\n",
    "                        binary_val_preds,\n",
    "                        zero_division=0,\n",
    "                        output_dict=True\n",
    "                    )\n",
    "\n",
    "                    save_json(\n",
    "                        os.path.join(self.config.stats, f'report_{fold}_{self.config.model_params.threshold}'),\n",
    "                        report\n",
    "                    )\n",
    "\n",
    "                    conf_matrix = confusion_matrix(binary_val_labels, binary_val_preds)\n",
    "\n",
    "                    plot_confusion_matrix(\n",
    "                        conf_matrix,\n",
    "                        self.config.stats,\n",
    "                        fold,\n",
    "                        f'Confusion Matrix for Fold {fold} and Threshold {self.config.model_params.threshold}',\n",
    "                        self.config.model_params.threshold,\n",
    "                    )\n",
    "\n",
    "                    auc_score = roc_auc_score(binary_val_labels, val_preds)\n",
    "                    auc_score_dict = {'auc_score': auc_score}\n",
    "\n",
    "                    save_json(\n",
    "                        os.path.join(self.config.stats, f'auc_score_{fold}_{self.config.model_params.threshold}'), \n",
    "                        auc_score_dict\n",
    "                    )\n",
    "                    \n",
    "                    plot_roc_curve(\n",
    "                        binary_val_labels,\n",
    "                        binary_val_preds,\n",
    "                        self.config.stats,\n",
    "                        fold,\n",
    "                        self.config.model_params.threshold\n",
    "                    )\n",
    "            \n",
    "            plot_metric(\n",
    "                self.config.stats,\n",
    "                epochs_range,\n",
    "                train_losses,\n",
    "                val_losses,\n",
    "                'Train Loss',\n",
    "                'Validation Loss',\n",
    "                fold,\n",
    "                self.config.model_params.threshold\n",
    "            )\n",
    "\n",
    "            plot_metric(\n",
    "                self.config.stats,\n",
    "                epochs_range,\n",
    "                train_accuracies,\n",
    "                val_accuracies,\n",
    "                'Train Accuracies',\n",
    "                'Validation Accuracies',\n",
    "                fold,\n",
    "                self.config.model_params.threshold\n",
    "            )"
   ]
  },
  {
   "cell_type": "code",
   "execution_count": 6,
   "metadata": {},
   "outputs": [
    {
     "name": "stdout",
     "output_type": "stream",
     "text": [
      "[2025-01-08 07:21:33,459: INFO: main_utils: created directory at: artifacts]\n",
      "[2025-01-08 07:21:33,460: INFO: main_utils: created directory at: artifacts/model_trainer/models]\n",
      "[2025-01-08 07:21:33,460: INFO: main_utils: created directory at: artifacts/model_trainer/stats]\n",
      "Device:  cuda\n"
     ]
    },
    {
     "data": {
      "application/vnd.jupyter.widget-view+json": {
       "model_id": "ec9f448190434a26a9a1b1f6c7aadea0",
       "version_major": 2,
       "version_minor": 0
      },
      "text/plain": [
       "tokenizer_config.json:   0%|          | 0.00/48.0 [00:00<?, ?B/s]"
      ]
     },
     "metadata": {},
     "output_type": "display_data"
    },
    {
     "data": {
      "application/vnd.jupyter.widget-view+json": {
       "model_id": "e216f9724ba64772ad924b344b119421",
       "version_major": 2,
       "version_minor": 0
      },
      "text/plain": [
       "vocab.txt:   0%|          | 0.00/232k [00:00<?, ?B/s]"
      ]
     },
     "metadata": {},
     "output_type": "display_data"
    },
    {
     "data": {
      "application/vnd.jupyter.widget-view+json": {
       "model_id": "17879fff2edf4b9a8ff5e15a8c36ef63",
       "version_major": 2,
       "version_minor": 0
      },
      "text/plain": [
       "tokenizer.json:   0%|          | 0.00/466k [00:00<?, ?B/s]"
      ]
     },
     "metadata": {},
     "output_type": "display_data"
    },
    {
     "data": {
      "application/vnd.jupyter.widget-view+json": {
       "model_id": "a3b9d9da259f4ba280a931794568a511",
       "version_major": 2,
       "version_minor": 0
      },
      "text/plain": [
       "config.json:   0%|          | 0.00/570 [00:00<?, ?B/s]"
      ]
     },
     "metadata": {},
     "output_type": "display_data"
    },
    {
     "data": {
      "application/vnd.jupyter.widget-view+json": {
       "model_id": "f8b66628735b4f88b865d60c47873dbd",
       "version_major": 2,
       "version_minor": 0
      },
      "text/plain": [
       "0it [00:00, ?it/s]"
      ]
     },
     "metadata": {},
     "output_type": "display_data"
    },
    {
     "name": "stdout",
     "output_type": "stream",
     "text": [
      "Fold 1/5\n"
     ]
    },
    {
     "data": {
      "application/vnd.jupyter.widget-view+json": {
       "model_id": "d6c975bcffd94badb493d7d370eacc1b",
       "version_major": 2,
       "version_minor": 0
      },
      "text/plain": [
       "model.safetensors:   0%|          | 0.00/440M [00:00<?, ?B/s]"
      ]
     },
     "metadata": {},
     "output_type": "display_data"
    },
    {
     "name": "stderr",
     "output_type": "stream",
     "text": [
      "Some weights of BertForSequenceClassification were not initialized from the model checkpoint at bert-base-uncased and are newly initialized: ['classifier.bias', 'classifier.weight']\n",
      "You should probably TRAIN this model on a down-stream task to be able to use it for predictions and inference.\n",
      "/home/petar/Documents/python_projects/petar-milivojevic-mlhU-machine-learning-new-mP1l/env/lib/python3.10/site-packages/transformers/optimization.py:591: FutureWarning: This implementation of AdamW is deprecated and will be removed in a future version. Use the PyTorch implementation torch.optim.AdamW instead, or set `no_deprecation_warning=True` to disable this warning\n",
      "  warnings.warn(\n"
     ]
    },
    {
     "data": {
      "application/vnd.jupyter.widget-view+json": {
       "model_id": "b649fb84e0fa41859525ea2f3bee64d0",
       "version_major": 2,
       "version_minor": 0
      },
      "text/plain": [
       "  0%|          | 0/20 [00:00<?, ?it/s]"
      ]
     },
     "metadata": {},
     "output_type": "display_data"
    },
    {
     "data": {
      "application/vnd.jupyter.widget-view+json": {
       "model_id": "42749f0dc0b4400c90a0407a14131b8c",
       "version_major": 2,
       "version_minor": 0
      },
      "text/plain": [
       "  0%|          | 0/17 [00:00<?, ?it/s]"
      ]
     },
     "metadata": {},
     "output_type": "display_data"
    },
    {
     "name": "stdout",
     "output_type": "stream",
     "text": [
      "epoch: 0/20 - train_loss:0.6598 - train_accuracy:0.8750epoch: 0/20 - train_loss:0.6110 - train_accuracy:0.8125epoch: 0/20 - train_loss:0.5180 - train_accuracy:0.8333epoch: 0/20 - train_loss:0.6125 - train_accuracy:0.8125epoch: 0/20 - train_loss:0.6177 - train_accuracy:0.8000epoch: 0/20 - train_loss:0.5701 - train_accuracy:0.8021epoch: 0/20 - train_loss:0.6887 - train_accuracy:0.7946"
     ]
    },
    {
     "ename": "KeyboardInterrupt",
     "evalue": "",
     "output_type": "error",
     "traceback": [
      "\u001b[0;31m---------------------------------------------------------------------------\u001b[0m",
      "\u001b[0;31mKeyboardInterrupt\u001b[0m                         Traceback (most recent call last)",
      "Cell \u001b[0;32mIn[6], line 5\u001b[0m\n\u001b[1;32m      3\u001b[0m     model_trainer_config \u001b[38;5;241m=\u001b[39m config\u001b[38;5;241m.\u001b[39mget_model_trainer_config()\n\u001b[1;32m      4\u001b[0m     model_trainer \u001b[38;5;241m=\u001b[39m ModelTrainer(config\u001b[38;5;241m=\u001b[39mmodel_trainer_config)\n\u001b[0;32m----> 5\u001b[0m     \u001b[43mmodel_trainer\u001b[49m\u001b[38;5;241;43m.\u001b[39;49m\u001b[43mtrain_compose\u001b[49m\u001b[43m(\u001b[49m\u001b[43m)\u001b[49m\n\u001b[1;32m      7\u001b[0m \u001b[38;5;28;01mexcept\u001b[39;00m \u001b[38;5;167;01mException\u001b[39;00m \u001b[38;5;28;01mas\u001b[39;00m e:\n\u001b[1;32m      8\u001b[0m     \u001b[38;5;28;01mraise\u001b[39;00m e\n",
      "Cell \u001b[0;32mIn[5], line 125\u001b[0m, in \u001b[0;36mModelTrainer.train_compose\u001b[0;34m(self)\u001b[0m\n\u001b[1;32m    122\u001b[0m epochs_range \u001b[38;5;241m=\u001b[39m \u001b[38;5;28mrange\u001b[39m(\u001b[38;5;241m1\u001b[39m, \u001b[38;5;28mself\u001b[39m\u001b[38;5;241m.\u001b[39mconfig\u001b[38;5;241m.\u001b[39mmodel_params\u001b[38;5;241m.\u001b[39mnum_epochs \u001b[38;5;241m+\u001b[39m \u001b[38;5;241m1\u001b[39m)\n\u001b[1;32m    124\u001b[0m \u001b[38;5;28;01mfor\u001b[39;00m epoch \u001b[38;5;129;01min\u001b[39;00m tqdm(\u001b[38;5;28mrange\u001b[39m(\u001b[38;5;28mself\u001b[39m\u001b[38;5;241m.\u001b[39mconfig\u001b[38;5;241m.\u001b[39mmodel_params\u001b[38;5;241m.\u001b[39mnum_epochs)):\n\u001b[0;32m--> 125\u001b[0m     train_epoch_loss, train_epoch_acc \u001b[38;5;241m=\u001b[39m \u001b[38;5;28;43mself\u001b[39;49m\u001b[38;5;241;43m.\u001b[39;49m\u001b[43mtrain\u001b[49m\u001b[43m(\u001b[49m\n\u001b[1;32m    126\u001b[0m \u001b[43m        \u001b[49m\u001b[43mepoch\u001b[49m\u001b[43m,\u001b[49m\n\u001b[1;32m    127\u001b[0m \u001b[43m        \u001b[49m\u001b[43mmodel\u001b[49m\u001b[43m,\u001b[49m\n\u001b[1;32m    128\u001b[0m \u001b[43m        \u001b[49m\u001b[43mtrain_loader\u001b[49m\u001b[43m,\u001b[49m\n\u001b[1;32m    129\u001b[0m \u001b[43m        \u001b[49m\u001b[43moptimizer\u001b[49m\u001b[43m,\u001b[49m\n\u001b[1;32m    130\u001b[0m \u001b[43m        \u001b[49m\u001b[43mcriterion\u001b[49m\u001b[43m,\u001b[49m\n\u001b[1;32m    131\u001b[0m \u001b[43m        \u001b[49m\u001b[43mdevice\u001b[49m\n\u001b[1;32m    132\u001b[0m \u001b[43m    \u001b[49m\u001b[43m)\u001b[49m\n\u001b[1;32m    134\u001b[0m     train_losses\u001b[38;5;241m.\u001b[39mappend(train_epoch_loss)\n\u001b[1;32m    135\u001b[0m     train_accuracies\u001b[38;5;241m.\u001b[39mappend(train_epoch_acc)\n",
      "Cell \u001b[0;32mIn[5], line 74\u001b[0m, in \u001b[0;36mModelTrainer.train\u001b[0;34m(self, epoch, model, train_loader, optimizer, criterion, device)\u001b[0m\n\u001b[1;32m     72\u001b[0m loss \u001b[38;5;241m=\u001b[39m criterion(outputs, labels)\n\u001b[1;32m     73\u001b[0m loss\u001b[38;5;241m.\u001b[39mbackward()\n\u001b[0;32m---> 74\u001b[0m \u001b[43moptimizer\u001b[49m\u001b[38;5;241;43m.\u001b[39;49m\u001b[43mstep\u001b[49m\u001b[43m(\u001b[49m\u001b[43m)\u001b[49m\n\u001b[1;32m     76\u001b[0m total_loss \u001b[38;5;241m+\u001b[39m\u001b[38;5;241m=\u001b[39m loss\u001b[38;5;241m.\u001b[39mitem()\n\u001b[1;32m     78\u001b[0m sys\u001b[38;5;241m.\u001b[39mstdout\u001b[38;5;241m.\u001b[39mwrite(\n\u001b[1;32m     79\u001b[0m     \u001b[38;5;124m\"\u001b[39m\u001b[38;5;124mepoch:\u001b[39m\u001b[38;5;132;01m%2d\u001b[39;00m\u001b[38;5;124m/\u001b[39m\u001b[38;5;132;01m%2d\u001b[39;00m\u001b[38;5;124m - train_loss:\u001b[39m\u001b[38;5;132;01m%.4f\u001b[39;00m\u001b[38;5;124m - train_accuracy:\u001b[39m\u001b[38;5;132;01m%.4f\u001b[39;00m\u001b[38;5;124m\"\u001b[39m \u001b[38;5;241m%\u001b[39m(\n\u001b[1;32m     80\u001b[0m         epoch,\n\u001b[0;32m   (...)\u001b[0m\n\u001b[1;32m     84\u001b[0m     )\n\u001b[1;32m     85\u001b[0m )\n",
      "File \u001b[0;32m~/Documents/python_projects/petar-milivojevic-mlhU-machine-learning-new-mP1l/env/lib/python3.10/site-packages/torch/optim/optimizer.py:487\u001b[0m, in \u001b[0;36mOptimizer.profile_hook_step.<locals>.wrapper\u001b[0;34m(*args, **kwargs)\u001b[0m\n\u001b[1;32m    482\u001b[0m         \u001b[38;5;28;01melse\u001b[39;00m:\n\u001b[1;32m    483\u001b[0m             \u001b[38;5;28;01mraise\u001b[39;00m \u001b[38;5;167;01mRuntimeError\u001b[39;00m(\n\u001b[1;32m    484\u001b[0m                 \u001b[38;5;124mf\u001b[39m\u001b[38;5;124m\"\u001b[39m\u001b[38;5;132;01m{\u001b[39;00mfunc\u001b[38;5;132;01m}\u001b[39;00m\u001b[38;5;124m must return None or a tuple of (new_args, new_kwargs), but got \u001b[39m\u001b[38;5;132;01m{\u001b[39;00mresult\u001b[38;5;132;01m}\u001b[39;00m\u001b[38;5;124m.\u001b[39m\u001b[38;5;124m\"\u001b[39m\n\u001b[1;32m    485\u001b[0m             )\n\u001b[0;32m--> 487\u001b[0m out \u001b[38;5;241m=\u001b[39m \u001b[43mfunc\u001b[49m\u001b[43m(\u001b[49m\u001b[38;5;241;43m*\u001b[39;49m\u001b[43margs\u001b[49m\u001b[43m,\u001b[49m\u001b[43m \u001b[49m\u001b[38;5;241;43m*\u001b[39;49m\u001b[38;5;241;43m*\u001b[39;49m\u001b[43mkwargs\u001b[49m\u001b[43m)\u001b[49m\n\u001b[1;32m    488\u001b[0m \u001b[38;5;28mself\u001b[39m\u001b[38;5;241m.\u001b[39m_optimizer_step_code()\n\u001b[1;32m    490\u001b[0m \u001b[38;5;66;03m# call optimizer step post hooks\u001b[39;00m\n",
      "File \u001b[0;32m~/Documents/python_projects/petar-milivojevic-mlhU-machine-learning-new-mP1l/env/lib/python3.10/site-packages/torch/utils/_contextlib.py:116\u001b[0m, in \u001b[0;36mcontext_decorator.<locals>.decorate_context\u001b[0;34m(*args, **kwargs)\u001b[0m\n\u001b[1;32m    113\u001b[0m \u001b[38;5;129m@functools\u001b[39m\u001b[38;5;241m.\u001b[39mwraps(func)\n\u001b[1;32m    114\u001b[0m \u001b[38;5;28;01mdef\u001b[39;00m\u001b[38;5;250m \u001b[39m\u001b[38;5;21mdecorate_context\u001b[39m(\u001b[38;5;241m*\u001b[39margs, \u001b[38;5;241m*\u001b[39m\u001b[38;5;241m*\u001b[39mkwargs):\n\u001b[1;32m    115\u001b[0m     \u001b[38;5;28;01mwith\u001b[39;00m ctx_factory():\n\u001b[0;32m--> 116\u001b[0m         \u001b[38;5;28;01mreturn\u001b[39;00m \u001b[43mfunc\u001b[49m\u001b[43m(\u001b[49m\u001b[38;5;241;43m*\u001b[39;49m\u001b[43margs\u001b[49m\u001b[43m,\u001b[49m\u001b[43m \u001b[49m\u001b[38;5;241;43m*\u001b[39;49m\u001b[38;5;241;43m*\u001b[39;49m\u001b[43mkwargs\u001b[49m\u001b[43m)\u001b[49m\n",
      "File \u001b[0;32m~/Documents/python_projects/petar-milivojevic-mlhU-machine-learning-new-mP1l/env/lib/python3.10/site-packages/transformers/optimization.py:647\u001b[0m, in \u001b[0;36mAdamW.step\u001b[0;34m(self, closure)\u001b[0m\n\u001b[1;32m    644\u001b[0m \u001b[38;5;66;03m# Decay the first and second moment running average coefficient\u001b[39;00m\n\u001b[1;32m    645\u001b[0m \u001b[38;5;66;03m# In-place operations to update the averages at the same time\u001b[39;00m\n\u001b[1;32m    646\u001b[0m exp_avg\u001b[38;5;241m.\u001b[39mmul_(beta1)\u001b[38;5;241m.\u001b[39madd_(grad, alpha\u001b[38;5;241m=\u001b[39m(\u001b[38;5;241m1.0\u001b[39m \u001b[38;5;241m-\u001b[39m beta1))\n\u001b[0;32m--> 647\u001b[0m \u001b[43mexp_avg_sq\u001b[49m\u001b[38;5;241;43m.\u001b[39;49m\u001b[43mmul_\u001b[49m\u001b[43m(\u001b[49m\u001b[43mbeta2\u001b[49m\u001b[43m)\u001b[49m\u001b[38;5;241;43m.\u001b[39;49m\u001b[43maddcmul_\u001b[49m\u001b[43m(\u001b[49m\u001b[43mgrad\u001b[49m\u001b[43m,\u001b[49m\u001b[43m \u001b[49m\u001b[43mgrad\u001b[49m\u001b[43m,\u001b[49m\u001b[43m \u001b[49m\u001b[43mvalue\u001b[49m\u001b[38;5;241;43m=\u001b[39;49m\u001b[38;5;241;43m1.0\u001b[39;49m\u001b[43m \u001b[49m\u001b[38;5;241;43m-\u001b[39;49m\u001b[43m \u001b[49m\u001b[43mbeta2\u001b[49m\u001b[43m)\u001b[49m\n\u001b[1;32m    648\u001b[0m denom \u001b[38;5;241m=\u001b[39m exp_avg_sq\u001b[38;5;241m.\u001b[39msqrt()\u001b[38;5;241m.\u001b[39madd_(group[\u001b[38;5;124m\"\u001b[39m\u001b[38;5;124meps\u001b[39m\u001b[38;5;124m\"\u001b[39m])\n\u001b[1;32m    650\u001b[0m step_size \u001b[38;5;241m=\u001b[39m group[\u001b[38;5;124m\"\u001b[39m\u001b[38;5;124mlr\u001b[39m\u001b[38;5;124m\"\u001b[39m]\n",
      "\u001b[0;31mKeyboardInterrupt\u001b[0m: "
     ]
    }
   ],
   "source": [
    "try:\n",
    "    config = ConfigurationManager()\n",
    "    model_trainer_config = config.get_model_trainer_config()\n",
    "    model_trainer = ModelTrainer(config=model_trainer_config)\n",
    "    model_trainer.train_compose()\n",
    "\n",
    "except Exception as e:\n",
    "    raise e"
   ]
  },
  {
   "cell_type": "code",
   "execution_count": null,
   "metadata": {},
   "outputs": [],
   "source": []
  }
 ],
 "metadata": {
  "kernelspec": {
   "display_name": "env",
   "language": "python",
   "name": "python3"
  },
  "language_info": {
   "codemirror_mode": {
    "name": "ipython",
    "version": 3
   },
   "file_extension": ".py",
   "mimetype": "text/x-python",
   "name": "python",
   "nbconvert_exporter": "python",
   "pygments_lexer": "ipython3",
   "version": "3.10.12"
  }
 },
 "nbformat": 4,
 "nbformat_minor": 2
}
